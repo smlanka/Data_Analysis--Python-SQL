{
  "nbformat": 4,
  "nbformat_minor": 0,
  "metadata": {
    "colab": {
      "provenance": []
    },
    "kernelspec": {
      "name": "python3",
      "display_name": "Python 3"
    },
    "language_info": {
      "name": "python"
    }
  },
  "cells": [
    {
      "cell_type": "markdown",
      "source": [
        "# **EDA**"
      ],
      "metadata": {
        "id": "lmpwMSeIAMv5"
      }
    },
    {
      "cell_type": "code",
      "execution_count": 1,
      "metadata": {
        "id": "edTQ6J4L15xC"
      },
      "outputs": [],
      "source": [
        "import pyspark\n",
        "from pyspark.sql import SparkSession"
      ]
    },
    {
      "cell_type": "code",
      "source": [
        "spark=SparkSession.builder.appName('Stock Price Analysis').getOrCreate()"
      ],
      "metadata": {
        "id": "pRddZjRV19pF"
      },
      "execution_count": 3,
      "outputs": []
    },
    {
      "cell_type": "code",
      "source": [
        "stock=spark.read.csv(\"/content/drive/MyDrive/stock market analysis-spark\",header=True)"
      ],
      "metadata": {
        "id": "8jm2TyLK19lu"
      },
      "execution_count": 22,
      "outputs": []
    },
    {
      "cell_type": "code",
      "source": [
        "stock.show()"
      ],
      "metadata": {
        "colab": {
          "base_uri": "https://localhost:8080/"
        },
        "id": "Eo_Qjozj19jI",
        "outputId": "674fccb1-f408-407b-f494-5222b9582e8e"
      },
      "execution_count": 8,
      "outputs": [
        {
          "output_type": "stream",
          "name": "stdout",
          "text": [
            "+------+----------+----------+-------+--------+--------+--------+\n",
            "|Ticker|      Date|Close/Last| Volume|    Open|    High|     Low|\n",
            "+------+----------+----------+-------+--------+--------+--------+\n",
            "| BRK-B|05/31/2023|  $321.08 |6175417|$321.12 |$322.41 |$319.39 |\n",
            "| BRK-B|05/30/2023|  $322.19 |3232461|$321.86 |$322.47 |$319.00 |\n",
            "| BRK-B|05/26/2023|  $320.60 |3229873|$320.44 |$322.63 |$319.67 |\n",
            "| BRK-B|05/25/2023|  $319.02 |4251935|$320.56 |$320.56 |$317.71 |\n",
            "| BRK-B|05/24/2023|  $320.20 |3075393|$322.71 |$323.00 |$319.56 |\n",
            "| BRK-B|05/23/2023|  $323.11 |4031342|$328.19 |$329.27 |$322.97 |\n",
            "| BRK-B|05/22/2023|  $329.13 |2763422|$330.75 |$331.49 |$328.35 |\n",
            "| BRK-B|05/19/2023|  $330.39 |4323538|$331.00 |$333.94 |$329.12 |\n",
            "| BRK-B|05/18/2023|  $329.76 |2808329|$326.87 |$329.98 |$325.85 |\n",
            "| BRK-B|05/17/2023|  $327.39 |3047626|$325.02 |$328.26 |$324.82 |\n",
            "| BRK-B|05/16/2023|  $323.75 |2139996|$322.46 |$324.69 |$322.36 |\n",
            "| BRK-B|05/15/2023|  $323.53 |2191609|$322.89 |$323.83 |$320.13 |\n",
            "| BRK-B|05/12/2023|  $322.49 |1938264|$323.82 |$324.24 |$320.54 |\n",
            "| BRK-B|05/11/2023|  $322.64 |2549339|$321.00 |$322.96 |$319.81 |\n",
            "| BRK-B|05/10/2023|  $322.99 |2641134|$326.08 |$326.16 |$320.15 |\n",
            "| BRK-B|05/09/2023|  $324.87 |2285924|$324.87 |$326.88 |$323.48 |\n",
            "| BRK-B|05/08/2023|  $326.14 |3303393|$328.26 |$330.69 |$325.79 |\n",
            "| BRK-B|05/05/2023|  $323.88 |3876299|$323.36 |$325.16 |$322.62 |\n",
            "| BRK-B|05/04/2023|  $320.00 |3194768|$323.44 |$325.99 |$317.41 |\n",
            "| BRK-B|05/03/2023|  $323.22 |2660456|$327.13 |$328.07 |$323.06 |\n",
            "+------+----------+----------+-------+--------+--------+--------+\n",
            "only showing top 20 rows\n",
            "\n"
          ]
        }
      ]
    },
    {
      "cell_type": "code",
      "source": [
        "stock.printSchema()"
      ],
      "metadata": {
        "colab": {
          "base_uri": "https://localhost:8080/"
        },
        "id": "kDptlM3e19gP",
        "outputId": "f003351c-3384-415d-f7b7-bbb5e34fe0c7"
      },
      "execution_count": 9,
      "outputs": [
        {
          "output_type": "stream",
          "name": "stdout",
          "text": [
            "root\n",
            " |-- Ticker: string (nullable = true)\n",
            " |-- Date: string (nullable = true)\n",
            " |-- Close/Last: string (nullable = true)\n",
            " |-- Volume: string (nullable = true)\n",
            " |-- Open: string (nullable = true)\n",
            " |-- High: string (nullable = true)\n",
            " |-- Low: string (nullable = true)\n",
            "\n"
          ]
        }
      ]
    },
    {
      "cell_type": "code",
      "source": [
        "stock.select(['Ticker','Date','Open']).show(5)"
      ],
      "metadata": {
        "colab": {
          "base_uri": "https://localhost:8080/"
        },
        "id": "faMIjKIY19dT",
        "outputId": "76d0863d-7174-4a7e-92d3-c85cee3ccb09"
      },
      "execution_count": 11,
      "outputs": [
        {
          "output_type": "stream",
          "name": "stdout",
          "text": [
            "+------+----------+--------+\n",
            "|Ticker|      Date|    Open|\n",
            "+------+----------+--------+\n",
            "| BRK-B|05/31/2023|$321.12 |\n",
            "| BRK-B|05/30/2023|$321.86 |\n",
            "| BRK-B|05/26/2023|$320.44 |\n",
            "| BRK-B|05/25/2023|$320.56 |\n",
            "| BRK-B|05/24/2023|$322.71 |\n",
            "+------+----------+--------+\n",
            "only showing top 5 rows\n",
            "\n"
          ]
        }
      ]
    },
    {
      "cell_type": "code",
      "source": [
        "stock.filter(stock.Ticker==\"MSFT\").show(5)"
      ],
      "metadata": {
        "colab": {
          "base_uri": "https://localhost:8080/"
        },
        "id": "mIpqgtD919aa",
        "outputId": "863d9331-9f67-4ab5-9890-30e3f229f8f7"
      },
      "execution_count": 13,
      "outputs": [
        {
          "output_type": "stream",
          "name": "stdout",
          "text": [
            "+------+----------+----------+--------+--------+--------+--------+\n",
            "|Ticker|      Date|Close/Last|  Volume|    Open|    High|     Low|\n",
            "+------+----------+----------+--------+--------+--------+--------+\n",
            "|  MSFT|05/31/2023|  $328.39 |45950550|$332.29 |$335.94 |$327.33 |\n",
            "|  MSFT|05/30/2023|  $331.21 |29503070|$335.23 |$335.74 |$330.52 |\n",
            "|  MSFT|05/26/2023|  $332.89 |36630630|$324.02 |$333.40 |$323.88 |\n",
            "|  MSFT|05/25/2023|  $325.92 |43301740|$323.24 |$326.90 |$320.00 |\n",
            "|  MSFT|05/24/2023|  $313.85 |23384890|$314.73 |$316.50 |$312.61 |\n",
            "+------+----------+----------+--------+--------+--------+--------+\n",
            "only showing top 5 rows\n",
            "\n"
          ]
        }
      ]
    },
    {
      "cell_type": "code",
      "source": [
        "stock.filter((stock.Ticker==\"MSFT\") & (stock.Date==\"05/31/2023\")).show(5)"
      ],
      "metadata": {
        "colab": {
          "base_uri": "https://localhost:8080/"
        },
        "id": "4eLRRVTm19Xw",
        "outputId": "23351e9d-036b-4a55-9007-72bdf40befde"
      },
      "execution_count": 15,
      "outputs": [
        {
          "output_type": "stream",
          "name": "stdout",
          "text": [
            "+------+----------+----------+--------+--------+--------+--------+\n",
            "|Ticker|      Date|Close/Last|  Volume|    Open|    High|     Low|\n",
            "+------+----------+----------+--------+--------+--------+--------+\n",
            "|  MSFT|05/31/2023|  $328.39 |45950550|$332.29 |$335.94 |$327.33 |\n",
            "+------+----------+----------+--------+--------+--------+--------+\n",
            "\n"
          ]
        }
      ]
    },
    {
      "cell_type": "code",
      "source": [
        "from pyspark.sql.functions import udf\n",
        "from pyspark.sql.types import DateType\n",
        "from datetime import datetime\n",
        "from pyspark.sql.types import FloatType\n"
      ],
      "metadata": {
        "id": "DABYamCY19VD"
      },
      "execution_count": 30,
      "outputs": []
    },
    {
      "cell_type": "code",
      "source": [
        "date_parser=udf(lambda date: datetime.strptime(date,'%m/%d/%Y'),DateType())"
      ],
      "metadata": {
        "id": "uLIKWFYx19SK"
      },
      "execution_count": 18,
      "outputs": []
    },
    {
      "cell_type": "code",
      "source": [
        "stock=stock.withColumn(\"ParseDate\",date_parser(stock.Date))"
      ],
      "metadata": {
        "id": "bOScVncA3NqT"
      },
      "execution_count": 23,
      "outputs": []
    },
    {
      "cell_type": "code",
      "source": [
        "stock.printSchema()"
      ],
      "metadata": {
        "colab": {
          "base_uri": "https://localhost:8080/"
        },
        "id": "lu_XaMVV3Nmt",
        "outputId": "4645b7c2-238a-4049-d411-2672a9dbdcb7"
      },
      "execution_count": 24,
      "outputs": [
        {
          "output_type": "stream",
          "name": "stdout",
          "text": [
            "root\n",
            " |-- Ticker: string (nullable = true)\n",
            " |-- Date: string (nullable = true)\n",
            " |-- Close/Last: string (nullable = true)\n",
            " |-- Volume: string (nullable = true)\n",
            " |-- Open: string (nullable = true)\n",
            " |-- High: string (nullable = true)\n",
            " |-- Low: string (nullable = true)\n",
            " |-- ParseDate: date (nullable = true)\n",
            "\n"
          ]
        }
      ]
    },
    {
      "cell_type": "code",
      "source": [
        "def prices(value):\n",
        "  if isinstance(value,str):\n",
        "    return float(value.strip(\"$\"))\n",
        "  elif isinstance(value,int) or isinstance(value,float):\n",
        "    return value\n",
        "  else:\n",
        "    return None\n",
        "prices=udf(prices,FloatType())"
      ],
      "metadata": {
        "id": "OwABrqAJ3Nkc"
      },
      "execution_count": 31,
      "outputs": []
    },
    {
      "cell_type": "code",
      "source": [
        "stock=stock.withColumn(\"Open\",prices(stock.Open))\n",
        "stock=stock.withColumn(\"High\",prices(stock.High))\n",
        "stock=stock.withColumn(\"Low\",prices(stock.Low))\n",
        "stock=stock.withColumn(\"Close\",prices(stock['Close/Last']))"
      ],
      "metadata": {
        "id": "QqtxpHGX3Nhj"
      },
      "execution_count": 33,
      "outputs": []
    },
    {
      "cell_type": "code",
      "source": [
        "stock.show(5)"
      ],
      "metadata": {
        "colab": {
          "base_uri": "https://localhost:8080/"
        },
        "id": "i7O-wXbx3NfN",
        "outputId": "c4d4a9e5-09c8-4954-e75a-9a6c9c590e98"
      },
      "execution_count": 34,
      "outputs": [
        {
          "output_type": "stream",
          "name": "stdout",
          "text": [
            "+------+----------+----------+-------+------+------+------+----------+------+\n",
            "|Ticker|      Date|Close/Last| Volume|  Open|  High|   Low| ParseDate| Close|\n",
            "+------+----------+----------+-------+------+------+------+----------+------+\n",
            "| BRK-B|05/31/2023|  $321.08 |6175417|321.12|322.41|319.39|2023-05-31|321.08|\n",
            "| BRK-B|05/30/2023|  $322.19 |3232461|321.86|322.47| 319.0|2023-05-30|322.19|\n",
            "| BRK-B|05/26/2023|  $320.60 |3229873|320.44|322.63|319.67|2023-05-26| 320.6|\n",
            "| BRK-B|05/25/2023|  $319.02 |4251935|320.56|320.56|317.71|2023-05-25|319.02|\n",
            "| BRK-B|05/24/2023|  $320.20 |3075393|322.71| 323.0|319.56|2023-05-24| 320.2|\n",
            "+------+----------+----------+-------+------+------+------+----------+------+\n",
            "only showing top 5 rows\n",
            "\n"
          ]
        }
      ]
    },
    {
      "cell_type": "code",
      "source": [
        "from pyspark.sql.types import IntegerType\n",
        "int_parser=udf(lambda volume: int(volume),IntegerType())\n",
        "stock=stock.withColumn(\"Volume\",int_parser(stock.Volume))"
      ],
      "metadata": {
        "id": "rPqC_5rG3Nck"
      },
      "execution_count": 35,
      "outputs": []
    },
    {
      "cell_type": "code",
      "source": [
        "stock.printSchema()"
      ],
      "metadata": {
        "colab": {
          "base_uri": "https://localhost:8080/"
        },
        "id": "DNpbcW2x3NZ9",
        "outputId": "157fa64d-5ba2-4c66-95ee-14c07076a857"
      },
      "execution_count": 37,
      "outputs": [
        {
          "output_type": "stream",
          "name": "stdout",
          "text": [
            "root\n",
            " |-- Ticker: string (nullable = true)\n",
            " |-- Date: string (nullable = true)\n",
            " |-- Close/Last: string (nullable = true)\n",
            " |-- Volume: integer (nullable = true)\n",
            " |-- Open: float (nullable = true)\n",
            " |-- High: float (nullable = true)\n",
            " |-- Low: float (nullable = true)\n",
            " |-- ParseDate: date (nullable = true)\n",
            " |-- Close: float (nullable = true)\n",
            "\n"
          ]
        }
      ]
    },
    {
      "cell_type": "code",
      "source": [
        "stock1=stock.select(['Ticker','ParseDate','Open','High','Low','Close','Volume'])"
      ],
      "metadata": {
        "id": "cH8OrWEW_CZw"
      },
      "execution_count": 38,
      "outputs": []
    },
    {
      "cell_type": "code",
      "source": [
        "stock1.show(5)"
      ],
      "metadata": {
        "colab": {
          "base_uri": "https://localhost:8080/"
        },
        "id": "PYH4tiH0_DkP",
        "outputId": "131e40af-3a96-414a-a1f1-76d98dd2363f"
      },
      "execution_count": 39,
      "outputs": [
        {
          "output_type": "stream",
          "name": "stdout",
          "text": [
            "+------+----------+------+------+------+------+-------+\n",
            "|Ticker| ParseDate|  Open|  High|   Low| Close| Volume|\n",
            "+------+----------+------+------+------+------+-------+\n",
            "| BRK-B|2023-05-31|321.12|322.41|319.39|321.08|6175417|\n",
            "| BRK-B|2023-05-30|321.86|322.47| 319.0|322.19|3232461|\n",
            "| BRK-B|2023-05-26|320.44|322.63|319.67| 320.6|3229873|\n",
            "| BRK-B|2023-05-25|320.56|320.56|317.71|319.02|4251935|\n",
            "| BRK-B|2023-05-24|322.71| 323.0|319.56| 320.2|3075393|\n",
            "+------+----------+------+------+------+------+-------+\n",
            "only showing top 5 rows\n",
            "\n"
          ]
        }
      ]
    },
    {
      "cell_type": "code",
      "source": [
        "stock1.describe(['Volume','Open','Close','Low','High']).show()"
      ],
      "metadata": {
        "colab": {
          "base_uri": "https://localhost:8080/"
        },
        "id": "NtzN0wOy_Dgy",
        "outputId": "f3fed507-f421-45f6-858d-e0572850b4ae"
      },
      "execution_count": 40,
      "outputs": [
        {
          "output_type": "stream",
          "name": "stdout",
          "text": [
            "+-------+--------------------+------------------+------------------+------------------+------------------+\n",
            "|summary|              Volume|              Open|             Close|               Low|              High|\n",
            "+-------+--------------------+------------------+------------------+------------------+------------------+\n",
            "|  count|               15108|             15108|             15108|             15108|             15108|\n",
            "|   mean|5.1868408793685466E7|180.09656566181036| 180.1256089860054| 177.9982781513109| 182.1253348687101|\n",
            "| stddev| 5.496484129953464E7|101.16125813324383|101.14891782168543|100.26590135955234|101.96625521621753|\n",
            "|    min|              961133|             12.07|             11.93|              11.8|             12.45|\n",
            "|    max|           914080943|            479.22|            477.71|            476.06|            479.98|\n",
            "+-------+--------------------+------------------+------------------+------------------+------------------+\n",
            "\n"
          ]
        }
      ]
    },
    {
      "cell_type": "markdown",
      "source": [
        "# **Basic Analysis**"
      ],
      "metadata": {
        "id": "DQlGxoyZAVOm"
      }
    },
    {
      "cell_type": "code",
      "source": [
        "stock1.groupBy('Ticker').max('Open').withColumnRenamed('max(Open)','Max Price').show()"
      ],
      "metadata": {
        "colab": {
          "base_uri": "https://localhost:8080/"
        },
        "id": "h6rs9X6s_DeP",
        "outputId": "b63dbc09-0de3-4a29-99fa-efdb12260616"
      },
      "execution_count": 43,
      "outputs": [
        {
          "output_type": "stream",
          "name": "stdout",
          "text": [
            "+------+---------+\n",
            "|Ticker|Max Price|\n",
            "+------+---------+\n",
            "| BRK-B|   361.39|\n",
            "|  AAPL|   182.63|\n",
            "|  META|   381.68|\n",
            "|  TSLA|   411.47|\n",
            "|  AMZN|    187.2|\n",
            "|  MSFT|   344.62|\n",
            "|   TSM|   141.61|\n",
            "|   QQQ|   405.57|\n",
            "|     V|   250.05|\n",
            "| GOOGL|   151.25|\n",
            "|   SPY|   479.22|\n",
            "|  NVDA|   405.95|\n",
            "+------+---------+\n",
            "\n"
          ]
        }
      ]
    },
    {
      "cell_type": "code",
      "source": [
        "import pyspark.sql.functions as func\n",
        "stock1.groupBy('Ticker').agg(func.max('Open').alias('Max Price')).show()"
      ],
      "metadata": {
        "colab": {
          "base_uri": "https://localhost:8080/"
        },
        "id": "_deS6cCc_Dbi",
        "outputId": "73ace7de-f51e-4a12-980c-97bfa2f9310d"
      },
      "execution_count": 44,
      "outputs": [
        {
          "output_type": "stream",
          "name": "stdout",
          "text": [
            "+------+---------+\n",
            "|Ticker|Max Price|\n",
            "+------+---------+\n",
            "| BRK-B|   361.39|\n",
            "|  AAPL|   182.63|\n",
            "|  META|   381.68|\n",
            "|  TSLA|   411.47|\n",
            "|  AMZN|    187.2|\n",
            "|  MSFT|   344.62|\n",
            "|   TSM|   141.61|\n",
            "|   QQQ|   405.57|\n",
            "|     V|   250.05|\n",
            "| GOOGL|   151.25|\n",
            "|   SPY|   479.22|\n",
            "|  NVDA|   405.95|\n",
            "+------+---------+\n",
            "\n"
          ]
        }
      ]
    },
    {
      "cell_type": "code",
      "source": [
        "stock1.groupBy('Ticker').agg(func.max('Open').alias('Max Price'),\n",
        "                             func.sum('Volume').alias('Total Volume')).show()"
      ],
      "metadata": {
        "colab": {
          "base_uri": "https://localhost:8080/"
        },
        "id": "qxyU2fVF_DZF",
        "outputId": "b9d49d0f-8abd-4620-8986-a3e9cc104211"
      },
      "execution_count": 45,
      "outputs": [
        {
          "output_type": "stream",
          "name": "stdout",
          "text": [
            "+------+---------+------------+\n",
            "|Ticker|Max Price|Total Volume|\n",
            "+------+---------+------------+\n",
            "| BRK-B|   361.39|  5862401321|\n",
            "|  AAPL|   182.63|139310061360|\n",
            "|  META|   381.68| 30148848043|\n",
            "|  TSLA|   411.47|171802975076|\n",
            "|  AMZN|    187.2|104503287430|\n",
            "|  MSFT|   344.62| 37976660472|\n",
            "|   TSM|   141.61| 12506470104|\n",
            "|   QQQ|   405.57| 60437153773|\n",
            "|     V|   250.05| 10410997871|\n",
            "| GOOGL|   151.25| 43956560981|\n",
            "|   SPY|   479.22|107925285300|\n",
            "|  NVDA|   405.95| 58787218324|\n",
            "+------+---------+------------+\n",
            "\n"
          ]
        }
      ]
    },
    {
      "cell_type": "code",
      "source": [
        "stock1=stock1.withColumn(\"Year\",func.year(stock1.ParseDate))\n",
        "stock1=stock1.withColumn(\"Month\",func.month(stock1.ParseDate))\n",
        "stock1=stock1.withColumn(\"Day\",func.dayofmonth(stock1.ParseDate))\n",
        "stock1=stock1.withColumn(\"Week\",func.weekofyear(stock1.ParseDate))"
      ],
      "metadata": {
        "id": "c43JHdoo_DWR"
      },
      "execution_count": 46,
      "outputs": []
    },
    {
      "cell_type": "code",
      "source": [
        "stock1.show(5)"
      ],
      "metadata": {
        "colab": {
          "base_uri": "https://localhost:8080/"
        },
        "id": "vnZkhYdw_DTt",
        "outputId": "03eede4b-e024-4ce2-d182-42c62d232d9d"
      },
      "execution_count": 47,
      "outputs": [
        {
          "output_type": "stream",
          "name": "stdout",
          "text": [
            "+------+----------+------+------+------+------+-------+----+-----+---+----+\n",
            "|Ticker| ParseDate|  Open|  High|   Low| Close| Volume|Year|Month|Day|Week|\n",
            "+------+----------+------+------+------+------+-------+----+-----+---+----+\n",
            "| BRK-B|2023-05-31|321.12|322.41|319.39|321.08|6175417|2023|    5| 31|  22|\n",
            "| BRK-B|2023-05-30|321.86|322.47| 319.0|322.19|3232461|2023|    5| 30|  22|\n",
            "| BRK-B|2023-05-26|320.44|322.63|319.67| 320.6|3229873|2023|    5| 26|  21|\n",
            "| BRK-B|2023-05-25|320.56|320.56|317.71|319.02|4251935|2023|    5| 25|  21|\n",
            "| BRK-B|2023-05-24|322.71| 323.0|319.56| 320.2|3075393|2023|    5| 24|  21|\n",
            "+------+----------+------+------+------+------+-------+----+-----+---+----+\n",
            "only showing top 5 rows\n",
            "\n"
          ]
        }
      ]
    },
    {
      "cell_type": "code",
      "source": [
        "yearly=stock1.groupBy(['Ticker','Year']).agg(func.max('Open').alias('High in a year'),func.min('Open').alias('Low in a year'))"
      ],
      "metadata": {
        "id": "CXPGKOfC_DRA"
      },
      "execution_count": 58,
      "outputs": []
    },
    {
      "cell_type": "code",
      "source": [
        "monthly=stock1.groupBy(['Ticker','Year','Month']).agg(func.max('Open').alias('High in a month'),func.min('Open').alias('Low in a month'))"
      ],
      "metadata": {
        "id": "t7HYjo1ZC9DC"
      },
      "execution_count": 59,
      "outputs": []
    },
    {
      "cell_type": "code",
      "source": [
        "weekly=stock1.groupBy(['Ticker','Year','Week']).agg(func.max('Open').alias('High in a week'),func.min('Open').alias('Low in a week'))"
      ],
      "metadata": {
        "id": "0RT8cvs-C8_j"
      },
      "execution_count": 60,
      "outputs": []
    },
    {
      "cell_type": "code",
      "source": [
        "weekly.show()"
      ],
      "metadata": {
        "colab": {
          "base_uri": "https://localhost:8080/"
        },
        "id": "teXlEvpEC889",
        "outputId": "f22cb0f7-afd3-40c8-dba1-623f45c12b23"
      },
      "execution_count": 61,
      "outputs": [
        {
          "output_type": "stream",
          "name": "stdout",
          "text": [
            "+------+----+----+--------------+-------------+\n",
            "|Ticker|Year|Week|High in a week|Low in a week|\n",
            "+------+----+----+--------------+-------------+\n",
            "| BRK-B|2022|  14|         352.0|       341.17|\n",
            "| BRK-B|2022|  10|        326.59|       322.49|\n",
            "| BRK-B|2021|  14|        264.22|       260.02|\n",
            "|  META|2022|  43|        131.68|        97.98|\n",
            "|  META|2020|   6|        212.51|       203.44|\n",
            "|  TSLA|2022|  20|        255.72|       235.67|\n",
            "|  TSLA|2020|  19|         52.92|        46.73|\n",
            "|  TSLA|2020|  16|         51.49|        39.34|\n",
            "|  TSLA|2018|  39|         20.86|        18.02|\n",
            "| BRK-B|2018|  48|        217.23|        209.3|\n",
            "|  MSFT|2022|   6|        309.87|       301.25|\n",
            "|  MSFT|2021|   2|        218.47|       213.52|\n",
            "|  META|2022|  40|        140.49|       136.76|\n",
            "|  AAPL|2020|  27|         91.96|        88.31|\n",
            "| BRK-B|2020|  19|        180.05|        173.4|\n",
            "|  MSFT|2020|   1|        158.78|       158.32|\n",
            "|  META|2020|  36|        298.88|       287.25|\n",
            "|  AAPL|2021|  25|        134.45|        130.3|\n",
            "|  AAPL|2020|  46|         120.5|       115.55|\n",
            "| BRK-B|2021|  32|        291.81|       287.01|\n",
            "+------+----+----+--------------+-------------+\n",
            "only showing top 20 rows\n",
            "\n"
          ]
        }
      ]
    },
    {
      "cell_type": "code",
      "source": [
        "weekly.withColumn(\"Spread\",weekly['High in a week']-weekly['Low in a week']).show()"
      ],
      "metadata": {
        "colab": {
          "base_uri": "https://localhost:8080/"
        },
        "id": "AY41ZsTKC86g",
        "outputId": "a14b1ed2-e81f-4bf6-a95d-2566ab6d6704"
      },
      "execution_count": 62,
      "outputs": [
        {
          "output_type": "stream",
          "name": "stdout",
          "text": [
            "+------+----+----+--------------+-------------+----------+\n",
            "|Ticker|Year|Week|High in a week|Low in a week|    Spread|\n",
            "+------+----+----+--------------+-------------+----------+\n",
            "| BRK-B|2022|  14|         352.0|       341.17| 10.829987|\n",
            "| BRK-B|2022|  10|        326.59|       322.49|  4.100006|\n",
            "| BRK-B|2021|  14|        264.22|       260.02|  4.200012|\n",
            "|  META|2022|  43|        131.68|        97.98|  33.69999|\n",
            "|  META|2020|   6|        212.51|       203.44|  9.069992|\n",
            "|  TSLA|2022|  20|        255.72|       235.67| 20.050003|\n",
            "|  TSLA|2020|  19|         52.92|        46.73| 6.1899986|\n",
            "|  TSLA|2020|  16|         51.49|        39.34| 12.150002|\n",
            "|  TSLA|2018|  39|         20.86|        18.02| 2.8400002|\n",
            "| BRK-B|2018|  48|        217.23|        209.3| 7.9299927|\n",
            "|  MSFT|2022|   6|        309.87|       301.25|  8.619995|\n",
            "|  MSFT|2021|   2|        218.47|       213.52|  4.949997|\n",
            "|  META|2022|  40|        140.49|       136.76|  3.730011|\n",
            "|  AAPL|2020|  27|         91.96|        88.31| 3.6500015|\n",
            "| BRK-B|2020|  19|        180.05|        173.4|  6.650009|\n",
            "|  MSFT|2020|   1|        158.78|       158.32|0.45999146|\n",
            "|  META|2020|  36|        298.88|       287.25| 11.630005|\n",
            "|  AAPL|2021|  25|        134.45|        130.3|  4.149994|\n",
            "|  AAPL|2020|  46|         120.5|       115.55|  4.949997|\n",
            "| BRK-B|2021|  32|        291.81|       287.01|  4.799988|\n",
            "+------+----+----+--------------+-------------+----------+\n",
            "only showing top 20 rows\n",
            "\n"
          ]
        }
      ]
    },
    {
      "cell_type": "markdown",
      "source": [
        "# **Join & SQL**"
      ],
      "metadata": {
        "id": "BKq-_buFMIRY"
      }
    },
    {
      "cell_type": "code",
      "source": [
        "combined=stock1.join(yearly,(stock1.Ticker==yearly.Ticker)&(stock1.Year==yearly.Year),'inner').drop(yearly.Ticker,yearly.Year)"
      ],
      "metadata": {
        "id": "8UbsV8hqC83z"
      },
      "execution_count": 97,
      "outputs": []
    },
    {
      "cell_type": "code",
      "source": [
        "combined.show()"
      ],
      "metadata": {
        "colab": {
          "base_uri": "https://localhost:8080/"
        },
        "id": "9Ng9qZgGC81W",
        "outputId": "c6e53659-e84b-4ce8-d430-5311b9c7002f"
      },
      "execution_count": 98,
      "outputs": [
        {
          "output_type": "stream",
          "name": "stdout",
          "text": [
            "+----------+------+------+------+------+-------+-----+---+----+------+----+--------------+-------------+\n",
            "| ParseDate|  Open|  High|   Low| Close| Volume|Month|Day|Week|Ticker|Year|High in a year|Low in a year|\n",
            "+----------+------+------+------+------+-------+-----+---+----+------+----+--------------+-------------+\n",
            "|2023-05-31|321.12|322.41|319.39|321.08|6175417|    5| 31|  22| BRK-B|2023|         331.0|       294.68|\n",
            "|2023-05-30|321.86|322.47| 319.0|322.19|3232461|    5| 30|  22| BRK-B|2023|         331.0|       294.68|\n",
            "|2023-05-26|320.44|322.63|319.67| 320.6|3229873|    5| 26|  21| BRK-B|2023|         331.0|       294.68|\n",
            "|2023-05-25|320.56|320.56|317.71|319.02|4251935|    5| 25|  21| BRK-B|2023|         331.0|       294.68|\n",
            "|2023-05-24|322.71| 323.0|319.56| 320.2|3075393|    5| 24|  21| BRK-B|2023|         331.0|       294.68|\n",
            "|2023-05-23|328.19|329.27|322.97|323.11|4031342|    5| 23|  21| BRK-B|2023|         331.0|       294.68|\n",
            "|2023-05-22|330.75|331.49|328.35|329.13|2763422|    5| 22|  21| BRK-B|2023|         331.0|       294.68|\n",
            "|2023-05-19| 331.0|333.94|329.12|330.39|4323538|    5| 19|  20| BRK-B|2023|         331.0|       294.68|\n",
            "|2023-05-18|326.87|329.98|325.85|329.76|2808329|    5| 18|  20| BRK-B|2023|         331.0|       294.68|\n",
            "|2023-05-17|325.02|328.26|324.82|327.39|3047626|    5| 17|  20| BRK-B|2023|         331.0|       294.68|\n",
            "|2023-05-16|322.46|324.69|322.36|323.75|2139996|    5| 16|  20| BRK-B|2023|         331.0|       294.68|\n",
            "|2023-05-15|322.89|323.83|320.13|323.53|2191609|    5| 15|  20| BRK-B|2023|         331.0|       294.68|\n",
            "|2023-05-12|323.82|324.24|320.54|322.49|1938264|    5| 12|  19| BRK-B|2023|         331.0|       294.68|\n",
            "|2023-05-11| 321.0|322.96|319.81|322.64|2549339|    5| 11|  19| BRK-B|2023|         331.0|       294.68|\n",
            "|2023-05-10|326.08|326.16|320.15|322.99|2641134|    5| 10|  19| BRK-B|2023|         331.0|       294.68|\n",
            "|2023-05-09|324.87|326.88|323.48|324.87|2285924|    5|  9|  19| BRK-B|2023|         331.0|       294.68|\n",
            "|2023-05-08|328.26|330.69|325.79|326.14|3303393|    5|  8|  19| BRK-B|2023|         331.0|       294.68|\n",
            "|2023-05-05|323.36|325.16|322.62|323.88|3876299|    5|  5|  18| BRK-B|2023|         331.0|       294.68|\n",
            "|2023-05-04|323.44|325.99|317.41| 320.0|3194768|    5|  4|  18| BRK-B|2023|         331.0|       294.68|\n",
            "|2023-05-03|327.13|328.07|323.06|323.22|2660456|    5|  3|  18| BRK-B|2023|         331.0|       294.68|\n",
            "+----------+------+------+------+------+-------+-----+---+----+------+----+--------------+-------------+\n",
            "only showing top 20 rows\n",
            "\n"
          ]
        }
      ]
    },
    {
      "cell_type": "code",
      "source": [
        "combined=combined.join(weekly,(combined.Ticker==weekly.Ticker)&(combined.Year==weekly.Year) & (combined.Week==weekly.Week) ,'inner').drop(combined.Ticker,weekly.Year,weekly.Week)"
      ],
      "metadata": {
        "id": "v-rQF4u_C8yq"
      },
      "execution_count": 99,
      "outputs": []
    },
    {
      "cell_type": "code",
      "source": [
        "combined.show()"
      ],
      "metadata": {
        "colab": {
          "base_uri": "https://localhost:8080/"
        },
        "id": "tNSDDZl6C8wG",
        "outputId": "c84d500a-ba95-4c90-b22b-8fc676db79e8"
      },
      "execution_count": 100,
      "outputs": [
        {
          "output_type": "stream",
          "name": "stdout",
          "text": [
            "+----------+------+------+------+------+-------+-----+---+----+--------------+-------------+------+----+--------------+-------------+\n",
            "| ParseDate|  Open|  High|   Low| Close| Volume|Month|Day|Year|High in a year|Low in a year|Ticker|Week|High in a week|Low in a week|\n",
            "+----------+------+------+------+------+-------+-----+---+----+--------------+-------------+------+----+--------------+-------------+\n",
            "|2023-05-31|321.12|322.41|319.39|321.08|6175417|    5| 31|2023|         331.0|       294.68| BRK-B|  22|        321.86|       321.12|\n",
            "|2023-05-30|321.86|322.47| 319.0|322.19|3232461|    5| 30|2023|         331.0|       294.68| BRK-B|  22|        321.86|       321.12|\n",
            "|2023-05-26|320.44|322.63|319.67| 320.6|3229873|    5| 26|2023|         331.0|       294.68| BRK-B|  21|        330.75|       320.44|\n",
            "|2023-05-25|320.56|320.56|317.71|319.02|4251935|    5| 25|2023|         331.0|       294.68| BRK-B|  21|        330.75|       320.44|\n",
            "|2023-05-24|322.71| 323.0|319.56| 320.2|3075393|    5| 24|2023|         331.0|       294.68| BRK-B|  21|        330.75|       320.44|\n",
            "|2023-05-23|328.19|329.27|322.97|323.11|4031342|    5| 23|2023|         331.0|       294.68| BRK-B|  21|        330.75|       320.44|\n",
            "|2023-05-22|330.75|331.49|328.35|329.13|2763422|    5| 22|2023|         331.0|       294.68| BRK-B|  21|        330.75|       320.44|\n",
            "|2023-05-19| 331.0|333.94|329.12|330.39|4323538|    5| 19|2023|         331.0|       294.68| BRK-B|  20|         331.0|       322.46|\n",
            "|2023-05-18|326.87|329.98|325.85|329.76|2808329|    5| 18|2023|         331.0|       294.68| BRK-B|  20|         331.0|       322.46|\n",
            "|2023-05-17|325.02|328.26|324.82|327.39|3047626|    5| 17|2023|         331.0|       294.68| BRK-B|  20|         331.0|       322.46|\n",
            "|2023-05-16|322.46|324.69|322.36|323.75|2139996|    5| 16|2023|         331.0|       294.68| BRK-B|  20|         331.0|       322.46|\n",
            "|2023-05-15|322.89|323.83|320.13|323.53|2191609|    5| 15|2023|         331.0|       294.68| BRK-B|  20|         331.0|       322.46|\n",
            "|2023-05-12|323.82|324.24|320.54|322.49|1938264|    5| 12|2023|         331.0|       294.68| BRK-B|  19|        328.26|        321.0|\n",
            "|2023-05-11| 321.0|322.96|319.81|322.64|2549339|    5| 11|2023|         331.0|       294.68| BRK-B|  19|        328.26|        321.0|\n",
            "|2023-05-10|326.08|326.16|320.15|322.99|2641134|    5| 10|2023|         331.0|       294.68| BRK-B|  19|        328.26|        321.0|\n",
            "|2023-05-09|324.87|326.88|323.48|324.87|2285924|    5|  9|2023|         331.0|       294.68| BRK-B|  19|        328.26|        321.0|\n",
            "|2023-05-08|328.26|330.69|325.79|326.14|3303393|    5|  8|2023|         331.0|       294.68| BRK-B|  19|        328.26|        321.0|\n",
            "|2023-05-05|323.36|325.16|322.62|323.88|3876299|    5|  5|2023|         331.0|       294.68| BRK-B|  18|        330.15|       323.36|\n",
            "|2023-05-04|323.44|325.99|317.41| 320.0|3194768|    5|  4|2023|         331.0|       294.68| BRK-B|  18|        330.15|       323.36|\n",
            "|2023-05-03|327.13|328.07|323.06|323.22|2660456|    5|  3|2023|         331.0|       294.68| BRK-B|  18|        330.15|       323.36|\n",
            "+----------+------+------+------+------+-------+-----+---+----+--------------+-------------+------+----+--------------+-------------+\n",
            "only showing top 20 rows\n",
            "\n"
          ]
        }
      ]
    },
    {
      "cell_type": "code",
      "source": [
        "combined=combined.join(monthly,['Ticker','Year','Month'])"
      ],
      "metadata": {
        "id": "Q8wmWGh6C8tn"
      },
      "execution_count": 101,
      "outputs": []
    },
    {
      "cell_type": "code",
      "source": [
        "combined.show()"
      ],
      "metadata": {
        "colab": {
          "base_uri": "https://localhost:8080/"
        },
        "id": "je1iGy0_K1JI",
        "outputId": "8f455b3e-4df8-4dc3-f200-dc75071ec770"
      },
      "execution_count": 102,
      "outputs": [
        {
          "output_type": "stream",
          "name": "stdout",
          "text": [
            "+------+----+-----+----------+------+------+------+------+-------+---+--------------+-------------+----+--------------+-------------+---------------+--------------+\n",
            "|Ticker|Year|Month| ParseDate|  Open|  High|   Low| Close| Volume|Day|High in a year|Low in a year|Week|High in a week|Low in a week|High in a month|Low in a month|\n",
            "+------+----+-----+----------+------+------+------+------+-------+---+--------------+-------------+----+--------------+-------------+---------------+--------------+\n",
            "| BRK-B|2023|    5|2023-05-31|321.12|322.41|319.39|321.08|6175417| 31|         331.0|       294.68|  22|        321.86|       321.12|          331.0|        320.44|\n",
            "| BRK-B|2023|    5|2023-05-30|321.86|322.47| 319.0|322.19|3232461| 30|         331.0|       294.68|  22|        321.86|       321.12|          331.0|        320.44|\n",
            "| BRK-B|2023|    5|2023-05-26|320.44|322.63|319.67| 320.6|3229873| 26|         331.0|       294.68|  21|        330.75|       320.44|          331.0|        320.44|\n",
            "| BRK-B|2023|    5|2023-05-25|320.56|320.56|317.71|319.02|4251935| 25|         331.0|       294.68|  21|        330.75|       320.44|          331.0|        320.44|\n",
            "| BRK-B|2023|    5|2023-05-24|322.71| 323.0|319.56| 320.2|3075393| 24|         331.0|       294.68|  21|        330.75|       320.44|          331.0|        320.44|\n",
            "| BRK-B|2023|    5|2023-05-23|328.19|329.27|322.97|323.11|4031342| 23|         331.0|       294.68|  21|        330.75|       320.44|          331.0|        320.44|\n",
            "| BRK-B|2023|    5|2023-05-22|330.75|331.49|328.35|329.13|2763422| 22|         331.0|       294.68|  21|        330.75|       320.44|          331.0|        320.44|\n",
            "| BRK-B|2023|    5|2023-05-19| 331.0|333.94|329.12|330.39|4323538| 19|         331.0|       294.68|  20|         331.0|       322.46|          331.0|        320.44|\n",
            "| BRK-B|2023|    5|2023-05-18|326.87|329.98|325.85|329.76|2808329| 18|         331.0|       294.68|  20|         331.0|       322.46|          331.0|        320.44|\n",
            "| BRK-B|2023|    5|2023-05-17|325.02|328.26|324.82|327.39|3047626| 17|         331.0|       294.68|  20|         331.0|       322.46|          331.0|        320.44|\n",
            "| BRK-B|2023|    5|2023-05-16|322.46|324.69|322.36|323.75|2139996| 16|         331.0|       294.68|  20|         331.0|       322.46|          331.0|        320.44|\n",
            "| BRK-B|2023|    5|2023-05-15|322.89|323.83|320.13|323.53|2191609| 15|         331.0|       294.68|  20|         331.0|       322.46|          331.0|        320.44|\n",
            "| BRK-B|2023|    5|2023-05-12|323.82|324.24|320.54|322.49|1938264| 12|         331.0|       294.68|  19|        328.26|        321.0|          331.0|        320.44|\n",
            "| BRK-B|2023|    5|2023-05-11| 321.0|322.96|319.81|322.64|2549339| 11|         331.0|       294.68|  19|        328.26|        321.0|          331.0|        320.44|\n",
            "| BRK-B|2023|    5|2023-05-10|326.08|326.16|320.15|322.99|2641134| 10|         331.0|       294.68|  19|        328.26|        321.0|          331.0|        320.44|\n",
            "| BRK-B|2023|    5|2023-05-09|324.87|326.88|323.48|324.87|2285924|  9|         331.0|       294.68|  19|        328.26|        321.0|          331.0|        320.44|\n",
            "| BRK-B|2023|    5|2023-05-08|328.26|330.69|325.79|326.14|3303393|  8|         331.0|       294.68|  19|        328.26|        321.0|          331.0|        320.44|\n",
            "| BRK-B|2023|    5|2023-05-05|323.36|325.16|322.62|323.88|3876299|  5|         331.0|       294.68|  18|        330.15|       323.36|          331.0|        320.44|\n",
            "| BRK-B|2023|    5|2023-05-04|323.44|325.99|317.41| 320.0|3194768|  4|         331.0|       294.68|  18|        330.15|       323.36|          331.0|        320.44|\n",
            "| BRK-B|2023|    5|2023-05-03|327.13|328.07|323.06|323.22|2660456|  3|         331.0|       294.68|  18|        330.15|       323.36|          331.0|        320.44|\n",
            "+------+----+-----+----------+------+------+------+------+-------+---+--------------+-------------+----+--------------+-------------+---------------+--------------+\n",
            "only showing top 20 rows\n",
            "\n"
          ]
        }
      ]
    },
    {
      "cell_type": "code",
      "source": [
        "combined.columns"
      ],
      "metadata": {
        "colab": {
          "base_uri": "https://localhost:8080/"
        },
        "id": "kCPlXEOAC8q9",
        "outputId": "6ce732e3-e5b7-4ab9-bc7d-5fa7dd7ec1cd"
      },
      "execution_count": 103,
      "outputs": [
        {
          "output_type": "execute_result",
          "data": {
            "text/plain": [
              "['Ticker',\n",
              " 'Year',\n",
              " 'Month',\n",
              " 'ParseDate',\n",
              " 'Open',\n",
              " 'High',\n",
              " 'Low',\n",
              " 'Close',\n",
              " 'Volume',\n",
              " 'Day',\n",
              " 'High in a year',\n",
              " 'Low in a year',\n",
              " 'Week',\n",
              " 'High in a week',\n",
              " 'Low in a week',\n",
              " 'High in a month',\n",
              " 'Low in a month']"
            ]
          },
          "metadata": {},
          "execution_count": 103
        }
      ]
    },
    {
      "cell_type": "code",
      "source": [
        "final=combined.select(['Ticker','Year','Month','Day','Week','Volume','Open','High','Low','Close','High in a year','Low in a year','High in a week','Low in a week','High in a month','Low in a month'])"
      ],
      "metadata": {
        "id": "lnxTTyI7_DOe"
      },
      "execution_count": 104,
      "outputs": []
    },
    {
      "cell_type": "code",
      "source": [
        "final.show()"
      ],
      "metadata": {
        "colab": {
          "base_uri": "https://localhost:8080/"
        },
        "id": "U7_2tVohJ5lq",
        "outputId": "98f660a8-1b96-48db-bd57-dd92399920ce"
      },
      "execution_count": 105,
      "outputs": [
        {
          "output_type": "stream",
          "name": "stdout",
          "text": [
            "+------+----+-----+---+----+-------+------+------+------+------+--------------+-------------+--------------+-------------+---------------+--------------+\n",
            "|Ticker|Year|Month|Day|Week| Volume|  Open|  High|   Low| Close|High in a year|Low in a year|High in a week|Low in a week|High in a month|Low in a month|\n",
            "+------+----+-----+---+----+-------+------+------+------+------+--------------+-------------+--------------+-------------+---------------+--------------+\n",
            "| BRK-B|2023|    5| 31|  22|6175417|321.12|322.41|319.39|321.08|         331.0|       294.68|        321.86|       321.12|          331.0|        320.44|\n",
            "| BRK-B|2023|    5| 30|  22|3232461|321.86|322.47| 319.0|322.19|         331.0|       294.68|        321.86|       321.12|          331.0|        320.44|\n",
            "| BRK-B|2023|    5| 26|  21|3229873|320.44|322.63|319.67| 320.6|         331.0|       294.68|        330.75|       320.44|          331.0|        320.44|\n",
            "| BRK-B|2023|    5| 25|  21|4251935|320.56|320.56|317.71|319.02|         331.0|       294.68|        330.75|       320.44|          331.0|        320.44|\n",
            "| BRK-B|2023|    5| 24|  21|3075393|322.71| 323.0|319.56| 320.2|         331.0|       294.68|        330.75|       320.44|          331.0|        320.44|\n",
            "| BRK-B|2023|    5| 23|  21|4031342|328.19|329.27|322.97|323.11|         331.0|       294.68|        330.75|       320.44|          331.0|        320.44|\n",
            "| BRK-B|2023|    5| 22|  21|2763422|330.75|331.49|328.35|329.13|         331.0|       294.68|        330.75|       320.44|          331.0|        320.44|\n",
            "| BRK-B|2023|    5| 19|  20|4323538| 331.0|333.94|329.12|330.39|         331.0|       294.68|         331.0|       322.46|          331.0|        320.44|\n",
            "| BRK-B|2023|    5| 18|  20|2808329|326.87|329.98|325.85|329.76|         331.0|       294.68|         331.0|       322.46|          331.0|        320.44|\n",
            "| BRK-B|2023|    5| 17|  20|3047626|325.02|328.26|324.82|327.39|         331.0|       294.68|         331.0|       322.46|          331.0|        320.44|\n",
            "| BRK-B|2023|    5| 16|  20|2139996|322.46|324.69|322.36|323.75|         331.0|       294.68|         331.0|       322.46|          331.0|        320.44|\n",
            "| BRK-B|2023|    5| 15|  20|2191609|322.89|323.83|320.13|323.53|         331.0|       294.68|         331.0|       322.46|          331.0|        320.44|\n",
            "| BRK-B|2023|    5| 12|  19|1938264|323.82|324.24|320.54|322.49|         331.0|       294.68|        328.26|        321.0|          331.0|        320.44|\n",
            "| BRK-B|2023|    5| 11|  19|2549339| 321.0|322.96|319.81|322.64|         331.0|       294.68|        328.26|        321.0|          331.0|        320.44|\n",
            "| BRK-B|2023|    5| 10|  19|2641134|326.08|326.16|320.15|322.99|         331.0|       294.68|        328.26|        321.0|          331.0|        320.44|\n",
            "| BRK-B|2023|    5|  9|  19|2285924|324.87|326.88|323.48|324.87|         331.0|       294.68|        328.26|        321.0|          331.0|        320.44|\n",
            "| BRK-B|2023|    5|  8|  19|3303393|328.26|330.69|325.79|326.14|         331.0|       294.68|        328.26|        321.0|          331.0|        320.44|\n",
            "| BRK-B|2023|    5|  5|  18|3876299|323.36|325.16|322.62|323.88|         331.0|       294.68|        330.15|       323.36|          331.0|        320.44|\n",
            "| BRK-B|2023|    5|  4|  18|3194768|323.44|325.99|317.41| 320.0|         331.0|       294.68|        330.15|       323.36|          331.0|        320.44|\n",
            "| BRK-B|2023|    5|  3|  18|2660456|327.13|328.07|323.06|323.22|         331.0|       294.68|        330.15|       323.36|          331.0|        320.44|\n",
            "+------+----+-----+---+----+-------+------+------+------+------+--------------+-------------+--------------+-------------+---------------+--------------+\n",
            "only showing top 20 rows\n",
            "\n"
          ]
        }
      ]
    },
    {
      "cell_type": "code",
      "source": [
        "final.createOrReplaceTempView('finalstock')"
      ],
      "metadata": {
        "id": "pS1HUv6YJ5iR"
      },
      "execution_count": 108,
      "outputs": []
    },
    {
      "cell_type": "code",
      "source": [
        "spark.sql(\"select * from finalstock where Ticker='MSFT' and Year='2023'\").show(5)"
      ],
      "metadata": {
        "colab": {
          "base_uri": "https://localhost:8080/"
        },
        "id": "yvfaayZAJ5fu",
        "outputId": "f6a4f381-a42c-4e71-d797-5bff7b469cf7"
      },
      "execution_count": 109,
      "outputs": [
        {
          "output_type": "stream",
          "name": "stdout",
          "text": [
            "+------+----+-----+---+----+--------+------+------+------+------+--------------+-------------+--------------+-------------+---------------+--------------+\n",
            "|Ticker|Year|Month|Day|Week|  Volume|  Open|  High|   Low| Close|High in a year|Low in a year|High in a week|Low in a week|High in a month|Low in a month|\n",
            "+------+----+-----+---+----+--------+------+------+------+------+--------------+-------------+--------------+-------------+---------------+--------------+\n",
            "|  MSFT|2023|    5| 31|  22|45950550|332.29|335.94|327.33|328.39|        335.23|        223.0|        335.23|       332.29|         335.23|        305.72|\n",
            "|  MSFT|2023|    5| 30|  22|29503070|335.23|335.74|330.52|331.21|        335.23|        223.0|        335.23|       332.29|         335.23|        305.72|\n",
            "|  MSFT|2023|    5| 26|  21|36630630|324.02| 333.4|323.88|332.89|        335.23|        223.0|        324.02|       314.73|         335.23|        305.72|\n",
            "|  MSFT|2023|    5| 25|  21|43301740|323.24| 326.9| 320.0|325.92|        335.23|        223.0|        324.02|       314.73|         335.23|        305.72|\n",
            "|  MSFT|2023|    5| 24|  21|23384890|314.73| 316.5|312.61|313.85|        335.23|        223.0|        324.02|       314.73|         335.23|        305.72|\n",
            "+------+----+-----+---+----+--------+------+------+------+------+--------------+-------------+--------------+-------------+---------------+--------------+\n",
            "only showing top 5 rows\n",
            "\n"
          ]
        }
      ]
    },
    {
      "cell_type": "markdown",
      "source": [
        "# **Window Functions**"
      ],
      "metadata": {
        "id": "NJUvVbadMMVH"
      }
    },
    {
      "cell_type": "code",
      "source": [
        "from pyspark.sql.window import Window"
      ],
      "metadata": {
        "id": "ftz2y8FVMvBK"
      },
      "execution_count": 112,
      "outputs": []
    },
    {
      "cell_type": "code",
      "source": [
        "df=stock1.select(['Ticker','ParseDate','Open'])"
      ],
      "metadata": {
        "id": "V2ZsZbFPJ5dO"
      },
      "execution_count": 111,
      "outputs": []
    },
    {
      "cell_type": "code",
      "source": [
        "lag1day=Window.partitionBy('Ticker').orderBy('ParseDate')"
      ],
      "metadata": {
        "id": "hLmWKtPMMuWo"
      },
      "execution_count": 113,
      "outputs": []
    },
    {
      "cell_type": "markdown",
      "source": [
        "For getting the corresponding previous day's price"
      ],
      "metadata": {
        "id": "WIbBXYjmNMjP"
      }
    },
    {
      "cell_type": "code",
      "source": [
        "df.withColumn('lag1day',func.lag('Open',1).over(lag1day)).show()"
      ],
      "metadata": {
        "colab": {
          "base_uri": "https://localhost:8080/"
        },
        "id": "pBZoViHDMuTE",
        "outputId": "142c0b98-3c08-4233-927e-0f805f5a9c89"
      },
      "execution_count": 114,
      "outputs": [
        {
          "output_type": "stream",
          "name": "stdout",
          "text": [
            "+------+----------+-----+-------+\n",
            "|Ticker| ParseDate| Open|lag1day|\n",
            "+------+----------+-----+-------+\n",
            "|  AAPL|2018-05-31|46.81|   NULL|\n",
            "|  AAPL|2018-06-01| 47.0|  46.81|\n",
            "|  AAPL|2018-06-04|47.91|   47.0|\n",
            "|  AAPL|2018-06-05|48.27|  47.91|\n",
            "|  AAPL|2018-06-06|48.41|  48.27|\n",
            "|  AAPL|2018-06-07|48.54|  48.41|\n",
            "|  AAPL|2018-06-08|47.79|  48.54|\n",
            "|  AAPL|2018-06-11|47.84|  47.79|\n",
            "|  AAPL|2018-06-12|47.85|  47.84|\n",
            "|  AAPL|2018-06-13|48.11|  47.85|\n",
            "|  AAPL|2018-06-14|47.89|  48.11|\n",
            "|  AAPL|2018-06-15|47.51|  47.89|\n",
            "|  AAPL|2018-06-18|46.97|  47.51|\n",
            "|  AAPL|2018-06-19|46.29|  46.97|\n",
            "|  AAPL|2018-06-20|46.59|  46.29|\n",
            "|  AAPL|2018-06-21|46.81|  46.59|\n",
            "|  AAPL|2018-06-22|46.53|  46.81|\n",
            "|  AAPL|2018-06-25|45.85|  46.53|\n",
            "|  AAPL|2018-06-26|45.75|  45.85|\n",
            "|  AAPL|2018-06-27|46.31|  45.75|\n",
            "+------+----------+-----+-------+\n",
            "only showing top 20 rows\n",
            "\n"
          ]
        }
      ]
    },
    {
      "cell_type": "code",
      "source": [
        "movingavg=Window.partitionBy('Ticker').orderBy('ParseDate').rowsBetween(-10,0)"
      ],
      "metadata": {
        "id": "zpuQdZuHMuQo"
      },
      "execution_count": 115,
      "outputs": []
    },
    {
      "cell_type": "code",
      "source": [
        "(df.withColumn('movingavg',func.avg('Open').over(movingavg))\n",
        "  .withColumn('movingavg',func.round('movingavg',2))).show()"
      ],
      "metadata": {
        "colab": {
          "base_uri": "https://localhost:8080/"
        },
        "id": "tKd8omXYMuNs",
        "outputId": "9982880b-d68a-4c56-a441-49c6f1caf3ed"
      },
      "execution_count": 117,
      "outputs": [
        {
          "output_type": "stream",
          "name": "stdout",
          "text": [
            "+------+----------+-----+---------+\n",
            "|Ticker| ParseDate| Open|movingavg|\n",
            "+------+----------+-----+---------+\n",
            "|  AAPL|2018-05-31|46.81|    46.81|\n",
            "|  AAPL|2018-06-01| 47.0|    46.91|\n",
            "|  AAPL|2018-06-04|47.91|    47.24|\n",
            "|  AAPL|2018-06-05|48.27|     47.5|\n",
            "|  AAPL|2018-06-06|48.41|    47.68|\n",
            "|  AAPL|2018-06-07|48.54|    47.82|\n",
            "|  AAPL|2018-06-08|47.79|    47.82|\n",
            "|  AAPL|2018-06-11|47.84|    47.82|\n",
            "|  AAPL|2018-06-12|47.85|    47.82|\n",
            "|  AAPL|2018-06-13|48.11|    47.85|\n",
            "|  AAPL|2018-06-14|47.89|    47.86|\n",
            "|  AAPL|2018-06-15|47.51|    47.92|\n",
            "|  AAPL|2018-06-18|46.97|    47.92|\n",
            "|  AAPL|2018-06-19|46.29|    47.77|\n",
            "|  AAPL|2018-06-20|46.59|    47.62|\n",
            "|  AAPL|2018-06-21|46.81|    47.47|\n",
            "|  AAPL|2018-06-22|46.53|    47.29|\n",
            "|  AAPL|2018-06-25|45.85|    47.11|\n",
            "|  AAPL|2018-06-26|45.75|    46.92|\n",
            "|  AAPL|2018-06-27|46.31|    46.78|\n",
            "+------+----------+-----+---------+\n",
            "only showing top 20 rows\n",
            "\n"
          ]
        }
      ]
    },
    {
      "cell_type": "code",
      "source": [
        "maxstock=Window.partitionBy('Ticker').orderBy(func.desc('Open'))"
      ],
      "metadata": {
        "id": "1X04aldnMuLP"
      },
      "execution_count": 128,
      "outputs": []
    },
    {
      "cell_type": "code",
      "source": [
        "result=df.withColumn('maxstock',func.row_number().over(maxstock)).filter('maxstock<=5')"
      ],
      "metadata": {
        "id": "fm9q2varMuId"
      },
      "execution_count": 133,
      "outputs": []
    },
    {
      "cell_type": "code",
      "source": [
        "result.show()"
      ],
      "metadata": {
        "colab": {
          "base_uri": "https://localhost:8080/"
        },
        "id": "eq9s0srDMuFx",
        "outputId": "61330162-a7a5-4ec8-9968-44c0cd02b313"
      },
      "execution_count": 134,
      "outputs": [
        {
          "output_type": "stream",
          "name": "stdout",
          "text": [
            "+------+----------+------+--------+\n",
            "|Ticker| ParseDate|  Open|maxstock|\n",
            "+------+----------+------+--------+\n",
            "|  AAPL|2022-01-04|182.63|       1|\n",
            "|  AAPL|2021-12-13|181.12|       2|\n",
            "|  AAPL|2021-12-28|180.16|       3|\n",
            "|  AAPL|2022-01-05|179.61|       4|\n",
            "|  AAPL|2021-12-30|179.47|       5|\n",
            "|  AMZN|2021-07-12| 187.2|       1|\n",
            "|  AMZN|2021-07-09|186.13|       2|\n",
            "|  AMZN|2021-07-07|185.87|       3|\n",
            "|  AMZN|2021-11-19|185.63|       4|\n",
            "|  AMZN|2021-07-14|185.44|       5|\n",
            "| BRK-B|2022-03-29|361.39|       1|\n",
            "| BRK-B|2022-03-28|360.59|       2|\n",
            "| BRK-B|2022-03-31| 359.0|       3|\n",
            "| BRK-B|2022-03-30|354.66|       4|\n",
            "| BRK-B|2022-03-25| 353.9|       5|\n",
            "| GOOGL|2022-02-02|151.25|       1|\n",
            "| GOOGL|2021-11-19|149.98|       2|\n",
            "| GOOGL|2021-11-08|149.83|       3|\n",
            "| GOOGL|2021-11-22|149.33|       4|\n",
            "| GOOGL|2021-11-09|149.23|       5|\n",
            "+------+----------+------+--------+\n",
            "only showing top 20 rows\n",
            "\n"
          ]
        }
      ]
    },
    {
      "cell_type": "code",
      "source": [
        "result.write.option(\"header\",True).partitionBy('Ticker','ParseDate').csv(\"result\")"
      ],
      "metadata": {
        "id": "z8LKlHEEQpDz"
      },
      "execution_count": 136,
      "outputs": []
    },
    {
      "cell_type": "code",
      "source": [],
      "metadata": {
        "id": "1lwLrNwEQpAO"
      },
      "execution_count": null,
      "outputs": []
    },
    {
      "cell_type": "code",
      "source": [],
      "metadata": {
        "id": "YbYmD0JHQo9q"
      },
      "execution_count": null,
      "outputs": []
    },
    {
      "cell_type": "code",
      "source": [],
      "metadata": {
        "id": "9JKx6Ih6J5ak"
      },
      "execution_count": null,
      "outputs": []
    }
  ]
}